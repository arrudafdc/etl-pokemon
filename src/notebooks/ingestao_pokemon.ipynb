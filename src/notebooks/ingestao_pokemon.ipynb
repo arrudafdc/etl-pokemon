{
 "cells": [
  {
   "cell_type": "code",
   "execution_count": 13,
   "metadata": {},
   "outputs": [],
   "source": [
    "import requests\n",
    "import json\n",
    "from datetime import datetime"
   ]
  },
  {
   "cell_type": "code",
   "execution_count": 14,
   "metadata": {},
   "outputs": [],
   "source": [
    "url = 'https://pokeapi.co/api/v2/pokemon'\n",
    "\n",
    "pokemon_list = []\n",
    "\n",
    "while (url):\n",
    "    response = requests.get(url)\n",
    "    data = response.json()\n",
    "    results = data['results']\n",
    "\n",
    "    pokemon_list.extend(results)\n",
    "\n",
    "    url = data['next']"
   ]
  },
  {
   "cell_type": "code",
   "execution_count": 15,
   "metadata": {},
   "outputs": [],
   "source": [
    "\n",
    "now = datetime.now().strftime('%Y-%m-%d %H_%M_%S')\n",
    "path = f\"/home/arrudafdc/dev/projects/python-projects/etl-pokemon/src/data/pokemon/pokemon_list_raw/{now}.json\"\n",
    "\n",
    "with open(path, 'w') as open_file:\n",
    "    json.dump(pokemon_list, open_file)"
   ]
  }
 ],
 "metadata": {
  "kernelspec": {
   "display_name": "3.11.5",
   "language": "python",
   "name": "python3"
  },
  "language_info": {
   "codemirror_mode": {
    "name": "ipython",
    "version": 3
   },
   "file_extension": ".py",
   "mimetype": "text/x-python",
   "name": "python",
   "nbconvert_exporter": "python",
   "pygments_lexer": "ipython3",
   "version": "3.11.5"
  }
 },
 "nbformat": 4,
 "nbformat_minor": 2
}
