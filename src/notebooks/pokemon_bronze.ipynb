{
 "cells": [
  {
   "cell_type": "code",
   "execution_count": 3,
   "metadata": {},
   "outputs": [],
   "source": [
    "from pyspark.sql import SparkSession"
   ]
  },
  {
   "cell_type": "code",
   "execution_count": 4,
   "metadata": {},
   "outputs": [
    {
     "name": "stderr",
     "output_type": "stream",
     "text": [
      "your 131072x1 screen size is bogus. expect trouble\n",
      "25/02/17 22:58:18 WARN Utils: Your hostname, aspire-lucas resolves to a loopback address: 127.0.1.1; using 10.255.255.254 instead (on interface lo)\n",
      "25/02/17 22:58:18 WARN Utils: Set SPARK_LOCAL_IP if you need to bind to another address\n",
      "Setting default log level to \"WARN\".\n",
      "To adjust logging level use sc.setLogLevel(newLevel). For SparkR, use setLogLevel(newLevel).\n",
      "25/02/17 22:58:19 WARN NativeCodeLoader: Unable to load native-hadoop library for your platform... using builtin-java classes where applicable\n"
     ]
    }
   ],
   "source": [
    "spark = SparkSession.builder.appName('PokemonETL').getOrCreate()"
   ]
  },
  {
   "cell_type": "code",
   "execution_count": 7,
   "metadata": {},
   "outputs": [],
   "source": [
    "df = spark.read.json('/home/arrudafdc/dev/projects/python-projects/etl-pokemon/src/data/pokemon/pokemon_list_raw/')\n",
    "df.distinct().createOrReplaceTempView('pokemon_bronze')"
   ]
  },
  {
   "cell_type": "code",
   "execution_count": 8,
   "metadata": {},
   "outputs": [
    {
     "name": "stdout",
     "output_type": "stream",
     "text": [
      "+---------------+--------------------+\n",
      "|           name|                 url|\n",
      "+---------------+--------------------+\n",
      "|       nidorino|https://pokeapi.c...|\n",
      "|         ponyta|https://pokeapi.c...|\n",
      "|         ledyba|https://pokeapi.c...|\n",
      "|   raichu-alola|https://pokeapi.c...|\n",
      "|araquanid-totem|https://pokeapi.c...|\n",
      "|        murkrow|https://pokeapi.c...|\n",
      "|         mawile|https://pokeapi.c...|\n",
      "|         combee|https://pokeapi.c...|\n",
      "|     bouffalant|https://pokeapi.c...|\n",
      "|         kyurem|https://pokeapi.c...|\n",
      "|     rotom-heat|https://pokeapi.c...|\n",
      "|     absol-mega|https://pokeapi.c...|\n",
      "|        solrock|https://pokeapi.c...|\n",
      "|      lilligant|https://pokeapi.c...|\n",
      "|        popplio|https://pokeapi.c...|\n",
      "|      rillaboom|https://pokeapi.c...|\n",
      "|   brute-bonnet|https://pokeapi.c...|\n",
      "|  gyarados-mega|https://pokeapi.c...|\n",
      "|         wynaut|https://pokeapi.c...|\n",
      "|         piplup|https://pokeapi.c...|\n",
      "+---------------+--------------------+\n",
      "only showing top 20 rows\n",
      "\n"
     ]
    }
   ],
   "source": [
    "result = spark.sql('SELECT * FROM pokemon_bronze')\n",
    "result.show()"
   ]
  }
 ],
 "metadata": {
  "kernelspec": {
   "display_name": "3.11.5",
   "language": "python",
   "name": "python3"
  },
  "language_info": {
   "codemirror_mode": {
    "name": "ipython",
    "version": 3
   },
   "file_extension": ".py",
   "mimetype": "text/x-python",
   "name": "python",
   "nbconvert_exporter": "python",
   "pygments_lexer": "ipython3",
   "version": "3.11.5"
  }
 },
 "nbformat": 4,
 "nbformat_minor": 2
}
